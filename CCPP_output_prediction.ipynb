{
  "nbformat": 4,
  "nbformat_minor": 0,
  "metadata": {
    "colab": {
      "name": "CCPP_output_prediction.ipynb",
      "provenance": [],
      "collapsed_sections": []
    },
    "kernelspec": {
      "name": "python3",
      "display_name": "Python 3"
    }
  },
  "cells": [
    {
      "cell_type": "code",
      "metadata": {
        "id": "L1Ybieo17KyH",
        "colab_type": "code",
        "colab": {}
      },
      "source": [
        "import pandas as pd\n",
        "import numpy as np\n",
        "import tensorflow as tf\n",
        "import matplotlib.pyplot as plt"
      ],
      "execution_count": 12,
      "outputs": []
    },
    {
      "cell_type": "markdown",
      "metadata": {
        "id": "mNm5tTfy7fXW",
        "colab_type": "text"
      },
      "source": [
        "# Data Pre-processing"
      ]
    },
    {
      "cell_type": "code",
      "metadata": {
        "id": "BkvbZ48P7ef1",
        "colab_type": "code",
        "colab": {}
      },
      "source": [
        "dataset = pd.read_excel('Folds5x2_pp.xlsx')\n",
        "X = dataset.iloc[:,:-1].values\n",
        "y = dataset.iloc[:,-1].values"
      ],
      "execution_count": 2,
      "outputs": []
    },
    {
      "cell_type": "code",
      "metadata": {
        "id": "e8pJDbaN7xAt",
        "colab_type": "code",
        "colab": {}
      },
      "source": [
        "from sklearn.model_selection import train_test_split\n",
        "\n",
        "X_train,X_test, y_train, y_test = train_test_split(X,y,test_size=0.2,random_state=0)"
      ],
      "execution_count": 3,
      "outputs": []
    },
    {
      "cell_type": "code",
      "metadata": {
        "id": "xEMJU98I8CQc",
        "colab_type": "code",
        "colab": {}
      },
      "source": [
        "from sklearn.preprocessing import StandardScaler\n",
        "\n",
        "sc = StandardScaler()\n",
        "X_train = sc.fit_transform(X_train)\n",
        "X_test = sc.transform(X_test)"
      ],
      "execution_count": 5,
      "outputs": []
    },
    {
      "cell_type": "markdown",
      "metadata": {
        "id": "JZ7GTnWf8thQ",
        "colab_type": "text"
      },
      "source": [
        "# Model Creation"
      ]
    },
    {
      "cell_type": "code",
      "metadata": {
        "id": "VQmqdXRu8GM-",
        "colab_type": "code",
        "colab": {
          "base_uri": "https://localhost:8080/",
          "height": 1000
        },
        "outputId": "41335f4f-7044-449c-c37e-0a75031126e4"
      },
      "source": [
        "model = tf.keras.models.Sequential([\n",
        "       tf.keras.layers.Dense(64,activation='relu'),\n",
        "       tf.keras.layers.Dense(32,activation='relu'),\n",
        "       tf.keras.layers.Dense(16,activation='relu'),\n",
        "       tf.keras.layers.Dense(1)\n",
        "])\n",
        "\n",
        "history = model.compile(optimizer='adam',loss=\"mean_squared_error\")\n",
        "\n",
        "model.fit(X_train,y_train,batch_size=32,epochs=100)"
      ],
      "execution_count": 25,
      "outputs": [
        {
          "output_type": "stream",
          "text": [
            "Epoch 1/100\n",
            "240/240 [==============================] - 0s 1ms/step - loss: 127482.8672\n",
            "Epoch 2/100\n",
            "240/240 [==============================] - 0s 1ms/step - loss: 8165.8877\n",
            "Epoch 3/100\n",
            "240/240 [==============================] - 0s 1ms/step - loss: 2004.8047\n",
            "Epoch 4/100\n",
            "240/240 [==============================] - 0s 1ms/step - loss: 768.8690\n",
            "Epoch 5/100\n",
            "240/240 [==============================] - 0s 1ms/step - loss: 349.7771\n",
            "Epoch 6/100\n",
            "240/240 [==============================] - 0s 1ms/step - loss: 176.2790\n",
            "Epoch 7/100\n",
            "240/240 [==============================] - 0s 1ms/step - loss: 102.2461\n",
            "Epoch 8/100\n",
            "240/240 [==============================] - 0s 1ms/step - loss: 67.4057\n",
            "Epoch 9/100\n",
            "240/240 [==============================] - 0s 1ms/step - loss: 50.0328\n",
            "Epoch 10/100\n",
            "240/240 [==============================] - 0s 1ms/step - loss: 40.0447\n",
            "Epoch 11/100\n",
            "240/240 [==============================] - 0s 1ms/step - loss: 33.9246\n",
            "Epoch 12/100\n",
            "240/240 [==============================] - 0s 1ms/step - loss: 30.3261\n",
            "Epoch 13/100\n",
            "240/240 [==============================] - 0s 1ms/step - loss: 27.2441\n",
            "Epoch 14/100\n",
            "240/240 [==============================] - 0s 1ms/step - loss: 25.3456\n",
            "Epoch 15/100\n",
            "240/240 [==============================] - 0s 1ms/step - loss: 24.1813\n",
            "Epoch 16/100\n",
            "240/240 [==============================] - 0s 1ms/step - loss: 23.2417\n",
            "Epoch 17/100\n",
            "240/240 [==============================] - 0s 1ms/step - loss: 22.4084\n",
            "Epoch 18/100\n",
            "240/240 [==============================] - 0s 1ms/step - loss: 21.8849\n",
            "Epoch 19/100\n",
            "240/240 [==============================] - 0s 1ms/step - loss: 21.6847\n",
            "Epoch 20/100\n",
            "240/240 [==============================] - 0s 1ms/step - loss: 20.9713\n",
            "Epoch 21/100\n",
            "240/240 [==============================] - 0s 1ms/step - loss: 20.9413\n",
            "Epoch 22/100\n",
            "240/240 [==============================] - 0s 1ms/step - loss: 20.7078\n",
            "Epoch 23/100\n",
            "240/240 [==============================] - 0s 1ms/step - loss: 20.4628\n",
            "Epoch 24/100\n",
            "240/240 [==============================] - 0s 1ms/step - loss: 20.5666\n",
            "Epoch 25/100\n",
            "240/240 [==============================] - 0s 1ms/step - loss: 20.6022\n",
            "Epoch 26/100\n",
            "240/240 [==============================] - 0s 1ms/step - loss: 19.9574\n",
            "Epoch 27/100\n",
            "240/240 [==============================] - 0s 1ms/step - loss: 20.4300\n",
            "Epoch 28/100\n",
            "240/240 [==============================] - 0s 1ms/step - loss: 20.0416\n",
            "Epoch 29/100\n",
            "240/240 [==============================] - 0s 1ms/step - loss: 20.2695\n",
            "Epoch 30/100\n",
            "240/240 [==============================] - 0s 1ms/step - loss: 19.8954\n",
            "Epoch 31/100\n",
            "240/240 [==============================] - 0s 1ms/step - loss: 20.0481\n",
            "Epoch 32/100\n",
            "240/240 [==============================] - 0s 1ms/step - loss: 20.2847\n",
            "Epoch 33/100\n",
            "240/240 [==============================] - 0s 1ms/step - loss: 21.0770\n",
            "Epoch 34/100\n",
            "240/240 [==============================] - 0s 1ms/step - loss: 20.4197\n",
            "Epoch 35/100\n",
            "240/240 [==============================] - 0s 1ms/step - loss: 20.3638\n",
            "Epoch 36/100\n",
            "240/240 [==============================] - 0s 1ms/step - loss: 19.6923\n",
            "Epoch 37/100\n",
            "240/240 [==============================] - 0s 1ms/step - loss: 20.6765\n",
            "Epoch 38/100\n",
            "240/240 [==============================] - 0s 1ms/step - loss: 20.0096\n",
            "Epoch 39/100\n",
            "240/240 [==============================] - 0s 1ms/step - loss: 19.9358\n",
            "Epoch 40/100\n",
            "240/240 [==============================] - 0s 1ms/step - loss: 19.4592\n",
            "Epoch 41/100\n",
            "240/240 [==============================] - 0s 1ms/step - loss: 19.4108\n",
            "Epoch 42/100\n",
            "240/240 [==============================] - 0s 1ms/step - loss: 19.8843\n",
            "Epoch 43/100\n",
            "240/240 [==============================] - 0s 1ms/step - loss: 19.5574\n",
            "Epoch 44/100\n",
            "240/240 [==============================] - 0s 1ms/step - loss: 19.7137\n",
            "Epoch 45/100\n",
            "240/240 [==============================] - 0s 1ms/step - loss: 19.9687\n",
            "Epoch 46/100\n",
            "240/240 [==============================] - 0s 1ms/step - loss: 19.5528\n",
            "Epoch 47/100\n",
            "240/240 [==============================] - 0s 1ms/step - loss: 19.7695\n",
            "Epoch 48/100\n",
            "240/240 [==============================] - 0s 1ms/step - loss: 19.1578\n",
            "Epoch 49/100\n",
            "240/240 [==============================] - 0s 1ms/step - loss: 19.7389\n",
            "Epoch 50/100\n",
            "240/240 [==============================] - 0s 1ms/step - loss: 19.6000\n",
            "Epoch 51/100\n",
            "240/240 [==============================] - 0s 1ms/step - loss: 19.1926\n",
            "Epoch 52/100\n",
            "240/240 [==============================] - 0s 1ms/step - loss: 19.7836\n",
            "Epoch 53/100\n",
            "240/240 [==============================] - 0s 1ms/step - loss: 20.0492\n",
            "Epoch 54/100\n",
            "240/240 [==============================] - 0s 1ms/step - loss: 19.6651\n",
            "Epoch 55/100\n",
            "240/240 [==============================] - 0s 1ms/step - loss: 19.3304\n",
            "Epoch 56/100\n",
            "240/240 [==============================] - 0s 1ms/step - loss: 20.2989\n",
            "Epoch 57/100\n",
            "240/240 [==============================] - 0s 1ms/step - loss: 19.4500\n",
            "Epoch 58/100\n",
            "240/240 [==============================] - 0s 1ms/step - loss: 19.1152\n",
            "Epoch 59/100\n",
            "240/240 [==============================] - 0s 1ms/step - loss: 19.3450\n",
            "Epoch 60/100\n",
            "240/240 [==============================] - 0s 1ms/step - loss: 19.1383\n",
            "Epoch 61/100\n",
            "240/240 [==============================] - 0s 1ms/step - loss: 19.6045\n",
            "Epoch 62/100\n",
            "240/240 [==============================] - 0s 1ms/step - loss: 19.7977\n",
            "Epoch 63/100\n",
            "240/240 [==============================] - 0s 1ms/step - loss: 19.0745\n",
            "Epoch 64/100\n",
            "240/240 [==============================] - 0s 1ms/step - loss: 19.3703\n",
            "Epoch 65/100\n",
            "240/240 [==============================] - 0s 1ms/step - loss: 20.0791\n",
            "Epoch 66/100\n",
            "240/240 [==============================] - 0s 1ms/step - loss: 19.7700\n",
            "Epoch 67/100\n",
            "240/240 [==============================] - 0s 1ms/step - loss: 19.6581\n",
            "Epoch 68/100\n",
            "240/240 [==============================] - 0s 1ms/step - loss: 19.3789\n",
            "Epoch 69/100\n",
            "240/240 [==============================] - 0s 1ms/step - loss: 19.5645\n",
            "Epoch 70/100\n",
            "240/240 [==============================] - 0s 1ms/step - loss: 19.6061\n",
            "Epoch 71/100\n",
            "240/240 [==============================] - 0s 1ms/step - loss: 19.5582\n",
            "Epoch 72/100\n",
            "240/240 [==============================] - 0s 1ms/step - loss: 19.3499\n",
            "Epoch 73/100\n",
            "240/240 [==============================] - 0s 1ms/step - loss: 19.0635\n",
            "Epoch 74/100\n",
            "240/240 [==============================] - 0s 1ms/step - loss: 19.6173\n",
            "Epoch 75/100\n",
            "240/240 [==============================] - 0s 1ms/step - loss: 19.5212\n",
            "Epoch 76/100\n",
            "240/240 [==============================] - 0s 1ms/step - loss: 20.0513\n",
            "Epoch 77/100\n",
            "240/240 [==============================] - 0s 1ms/step - loss: 19.3296\n",
            "Epoch 78/100\n",
            "240/240 [==============================] - 0s 1ms/step - loss: 18.9809\n",
            "Epoch 79/100\n",
            "240/240 [==============================] - 0s 1ms/step - loss: 19.7643\n",
            "Epoch 80/100\n",
            "240/240 [==============================] - 0s 1ms/step - loss: 19.2220\n",
            "Epoch 81/100\n",
            "240/240 [==============================] - 0s 1ms/step - loss: 19.6672\n",
            "Epoch 82/100\n",
            "240/240 [==============================] - 0s 1ms/step - loss: 19.2982\n",
            "Epoch 83/100\n",
            "240/240 [==============================] - 0s 1ms/step - loss: 19.2927\n",
            "Epoch 84/100\n",
            "240/240 [==============================] - 0s 1ms/step - loss: 19.7673\n",
            "Epoch 85/100\n",
            "240/240 [==============================] - 0s 1ms/step - loss: 19.2051\n",
            "Epoch 86/100\n",
            "240/240 [==============================] - 0s 1ms/step - loss: 19.6244\n",
            "Epoch 87/100\n",
            "240/240 [==============================] - 0s 1ms/step - loss: 19.4486\n",
            "Epoch 88/100\n",
            "240/240 [==============================] - 0s 1ms/step - loss: 19.1622\n",
            "Epoch 89/100\n",
            "240/240 [==============================] - 0s 1ms/step - loss: 19.2701\n",
            "Epoch 90/100\n",
            "240/240 [==============================] - 0s 1ms/step - loss: 18.9757\n",
            "Epoch 91/100\n",
            "240/240 [==============================] - 0s 1ms/step - loss: 19.0861\n",
            "Epoch 92/100\n",
            "240/240 [==============================] - 0s 1ms/step - loss: 19.1420\n",
            "Epoch 93/100\n",
            "240/240 [==============================] - 0s 1ms/step - loss: 18.9913\n",
            "Epoch 94/100\n",
            "240/240 [==============================] - 0s 1ms/step - loss: 19.9260\n",
            "Epoch 95/100\n",
            "240/240 [==============================] - 0s 1ms/step - loss: 19.1368\n",
            "Epoch 96/100\n",
            "240/240 [==============================] - 0s 1ms/step - loss: 19.2018\n",
            "Epoch 97/100\n",
            "240/240 [==============================] - 0s 1ms/step - loss: 19.2890\n",
            "Epoch 98/100\n",
            "240/240 [==============================] - 0s 1ms/step - loss: 19.0295\n",
            "Epoch 99/100\n",
            "240/240 [==============================] - 0s 1ms/step - loss: 18.9279\n",
            "Epoch 100/100\n",
            "240/240 [==============================] - 0s 1ms/step - loss: 19.5993\n"
          ],
          "name": "stdout"
        },
        {
          "output_type": "execute_result",
          "data": {
            "text/plain": [
              "<tensorflow.python.keras.callbacks.History at 0x7feff304b5f8>"
            ]
          },
          "metadata": {
            "tags": []
          },
          "execution_count": 25
        }
      ]
    },
    {
      "cell_type": "code",
      "metadata": {
        "id": "HmmZIP6G_RJA",
        "colab_type": "code",
        "colab": {
          "base_uri": "https://localhost:8080/",
          "height": 141
        },
        "outputId": "3340401f-9b8a-4f94-e9de-ac58d6e92dc4"
      },
      "source": [
        "y_pred = model.predict(X_test)\n",
        "np.set_printoptions(precision=2)\n",
        "print(np.concatenate((y_pred.reshape(len(y_pred),1), y_test.reshape(len(y_test),1)),1))"
      ],
      "execution_count": 26,
      "outputs": [
        {
          "output_type": "stream",
          "text": [
            "[[434.72 431.23]\n",
            " [457.46 460.01]\n",
            " [462.69 461.14]\n",
            " ...\n",
            " [469.2  473.26]\n",
            " [442.11 438.  ]\n",
            " [461.54 463.28]]\n"
          ],
          "name": "stdout"
        }
      ]
    },
    {
      "cell_type": "code",
      "metadata": {
        "id": "rpBNUIJyBAKD",
        "colab_type": "code",
        "colab": {
          "base_uri": "https://localhost:8080/",
          "height": 177
        },
        "outputId": "f0aa3a00-9ac4-4a3d-aec7-3f56830ebe24"
      },
      "source": [
        "print(y_pred)\n",
        "yyy = y_pred.flatten()\n",
        "print(yyy)\n",
        "MSE=tf.keras.losses.MSE(\n",
        "    y_test, yyy\n",
        ")\n",
        "print(MSE)"
      ],
      "execution_count": 27,
      "outputs": [
        {
          "output_type": "stream",
          "text": [
            "[[434.72]\n",
            " [457.46]\n",
            " [462.69]\n",
            " ...\n",
            " [469.2 ]\n",
            " [442.11]\n",
            " [461.54]]\n",
            "[434.72 457.46 462.69 ... 469.2  442.11 461.54]\n",
            "tf.Tensor(16.296242, shape=(), dtype=float32)\n"
          ],
          "name": "stdout"
        }
      ]
    },
    {
      "cell_type": "code",
      "metadata": {
        "id": "coN9GBkW_Uhw",
        "colab_type": "code",
        "colab": {
          "base_uri": "https://localhost:8080/",
          "height": 283
        },
        "outputId": "c0aaa031-9ed2-4ce7-e19c-9cb19815a416"
      },
      "source": [
        "plt.plot(y_pred[0:50])\n",
        "plt.plot(y_test[0:50])"
      ],
      "execution_count": 28,
      "outputs": [
        {
          "output_type": "execute_result",
          "data": {
            "text/plain": [
              "[<matplotlib.lines.Line2D at 0x7feff288f9e8>]"
            ]
          },
          "metadata": {
            "tags": []
          },
          "execution_count": 28
        },
        {
          "output_type": "display_data",
          "data": {
            "image/png": "[encoded data removed]",
            "text/plain": [
              "<Figure size 432x288 with 1 Axes>"
            ]
          },
          "metadata": {
            "tags": [],
            "needs_background": "light"
          }
        }
      ]
    }
  ]
}